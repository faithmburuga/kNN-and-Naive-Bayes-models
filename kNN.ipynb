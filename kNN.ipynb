{
  "nbformat": 4,
  "nbformat_minor": 0,
  "metadata": {
    "colab": {
      "name": "kNN",
      "provenance": [],
      "collapsed_sections": [
        "ZwoBFDE2r5CP",
        "80OPdtRQLwqs"
      ],
      "toc_visible": true
    },
    "kernelspec": {
      "name": "python3",
      "display_name": "Python 3"
    }
  },
  "cells": [
    {
      "cell_type": "markdown",
      "metadata": {
        "id": "YAjqzEpVqmIE",
        "colab_type": "text"
      },
      "source": [
        "# Titanic Survival Classification"
      ]
    },
    {
      "cell_type": "markdown",
      "metadata": {
        "id": "1BaXo4GXq2yu",
        "colab_type": "text"
      },
      "source": [
        "# 1. Defining the Question"
      ]
    },
    {
      "cell_type": "markdown",
      "metadata": {
        "id": "JGUYAlL-q7pJ",
        "colab_type": "text"
      },
      "source": [
        "## a) Specifying the question"
      ]
    },
    {
      "cell_type": "markdown",
      "metadata": {
        "id": "rrXmzTqZYk86",
        "colab_type": "text"
      },
      "source": [
        "Use the Titanic dataset to correctly classify whether passengers survived or not based on a number of given features."
      ]
    },
    {
      "cell_type": "markdown",
      "metadata": {
        "id": "oyTRcO4DrAu8",
        "colab_type": "text"
      },
      "source": [
        "## b) Defining the metric of success\n",
        "\n"
      ]
    },
    {
      "cell_type": "markdown",
      "metadata": {
        "id": "s6D84NseY3G4",
        "colab_type": "text"
      },
      "source": [
        "The kNN model will be considered successful if it has an accuracy of 90% and above."
      ]
    },
    {
      "cell_type": "markdown",
      "metadata": {
        "id": "57Tbcr0LrJ6i",
        "colab_type": "text"
      },
      "source": [
        "## c) Understanding the context"
      ]
    },
    {
      "cell_type": "markdown",
      "metadata": {
        "id": "xpuQ6UY8ZN2l",
        "colab_type": "text"
      },
      "source": [
        "The data is of real passengers who were on the Titanic and either survived the tragedy or not."
      ]
    },
    {
      "cell_type": "markdown",
      "metadata": {
        "id": "YP4dwGYOrY_q",
        "colab_type": "text"
      },
      "source": [
        "## d) Recording the Experimental Design"
      ]
    },
    {
      "cell_type": "markdown",
      "metadata": {
        "id": "I-vsbcBOZ086",
        "colab_type": "text"
      },
      "source": [
        "For this project, I'll be doing the following:\n",
        "1. Data cleaning\n",
        "2. Exploratory Data Analysis with focus on univariate and bivariate analysis\n",
        "3. kNN model"
      ]
    },
    {
      "cell_type": "markdown",
      "metadata": {
        "id": "a_3EI_6gri04",
        "colab_type": "text"
      },
      "source": [
        "## e) Data relevance"
      ]
    },
    {
      "cell_type": "markdown",
      "metadata": {
        "id": "Wc2sVfjKaCiE",
        "colab_type": "text"
      },
      "source": [
        "The data provided is of relevance to the question. It has a wide range of variables that will be useful in classifying whether a passenger survived or not."
      ]
    },
    {
      "cell_type": "markdown",
      "metadata": {
        "id": "HNJqi-nyro2l",
        "colab_type": "text"
      },
      "source": [
        "# 2. Reading the Data"
      ]
    },
    {
      "cell_type": "code",
      "metadata": {
        "id": "IZNgl_gRrq3p",
        "colab_type": "code",
        "colab": {
          "base_uri": "https://localhost:8080/",
          "height": 71
        },
        "outputId": "28e099a9-82a7-4f8d-9f16-1ce63e4056c6"
      },
      "source": [
        "# Importing all the necessary libraries\n",
        "\n",
        "import pandas as pd\n",
        "import numpy as np\n",
        "import seaborn as sns\n",
        "import matplotlib.pyplot as plt\n",
        "from sklearn.preprocessing import LabelEncoder\n",
        "from sklearn.model_selection import train_test_split\n",
        "from sklearn.preprocessing import StandardScaler\n",
        "from sklearn.neighbors import KNeighborsClassifier\n",
        "from sklearn import metrics\n",
        "from sklearn.metrics import classification_report, confusion_matrix\n",
        "from sklearn.model_selection import GridSearchCV"
      ],
      "execution_count": null,
      "outputs": [
        {
          "output_type": "stream",
          "text": [
            "/usr/local/lib/python3.6/dist-packages/statsmodels/tools/_testing.py:19: FutureWarning: pandas.util.testing is deprecated. Use the functions in the public API at pandas.testing instead.\n",
            "  import pandas.util.testing as tm\n"
          ],
          "name": "stderr"
        }
      ]
    },
    {
      "cell_type": "code",
      "metadata": {
        "id": "sbq2f689wVI8",
        "colab_type": "code",
        "colab": {
          "base_uri": "https://localhost:8080/",
          "height": 255
        },
        "outputId": "c4ea468e-9632-4cd9-903e-53e032886411"
      },
      "source": [
        "# Load the dataset\n",
        "\n",
        "ship = pd.read_csv('/content/train (5).csv')\n",
        "ship.head()"
      ],
      "execution_count": null,
      "outputs": [
        {
          "output_type": "execute_result",
          "data": {
            "text/html": [
              "<div>\n",
              "<style scoped>\n",
              "    .dataframe tbody tr th:only-of-type {\n",
              "        vertical-align: middle;\n",
              "    }\n",
              "\n",
              "    .dataframe tbody tr th {\n",
              "        vertical-align: top;\n",
              "    }\n",
              "\n",
              "    .dataframe thead th {\n",
              "        text-align: right;\n",
              "    }\n",
              "</style>\n",
              "<table border=\"1\" class=\"dataframe\">\n",
              "  <thead>\n",
              "    <tr style=\"text-align: right;\">\n",
              "      <th></th>\n",
              "      <th>PassengerId</th>\n",
              "      <th>Survived</th>\n",
              "      <th>Pclass</th>\n",
              "      <th>Name</th>\n",
              "      <th>Sex</th>\n",
              "      <th>Age</th>\n",
              "      <th>SibSp</th>\n",
              "      <th>Parch</th>\n",
              "      <th>Ticket</th>\n",
              "      <th>Fare</th>\n",
              "      <th>Cabin</th>\n",
              "      <th>Embarked</th>\n",
              "    </tr>\n",
              "  </thead>\n",
              "  <tbody>\n",
              "    <tr>\n",
              "      <th>0</th>\n",
              "      <td>1</td>\n",
              "      <td>0</td>\n",
              "      <td>3</td>\n",
              "      <td>Braund, Mr. Owen Harris</td>\n",
              "      <td>male</td>\n",
              "      <td>22.0</td>\n",
              "      <td>1</td>\n",
              "      <td>0</td>\n",
              "      <td>A/5 21171</td>\n",
              "      <td>7.2500</td>\n",
              "      <td>NaN</td>\n",
              "      <td>S</td>\n",
              "    </tr>\n",
              "    <tr>\n",
              "      <th>1</th>\n",
              "      <td>2</td>\n",
              "      <td>1</td>\n",
              "      <td>1</td>\n",
              "      <td>Cumings, Mrs. John Bradley (Florence Briggs Th...</td>\n",
              "      <td>female</td>\n",
              "      <td>38.0</td>\n",
              "      <td>1</td>\n",
              "      <td>0</td>\n",
              "      <td>PC 17599</td>\n",
              "      <td>71.2833</td>\n",
              "      <td>C85</td>\n",
              "      <td>C</td>\n",
              "    </tr>\n",
              "    <tr>\n",
              "      <th>2</th>\n",
              "      <td>3</td>\n",
              "      <td>1</td>\n",
              "      <td>3</td>\n",
              "      <td>Heikkinen, Miss. Laina</td>\n",
              "      <td>female</td>\n",
              "      <td>26.0</td>\n",
              "      <td>0</td>\n",
              "      <td>0</td>\n",
              "      <td>STON/O2. 3101282</td>\n",
              "      <td>7.9250</td>\n",
              "      <td>NaN</td>\n",
              "      <td>S</td>\n",
              "    </tr>\n",
              "    <tr>\n",
              "      <th>3</th>\n",
              "      <td>4</td>\n",
              "      <td>1</td>\n",
              "      <td>1</td>\n",
              "      <td>Futrelle, Mrs. Jacques Heath (Lily May Peel)</td>\n",
              "      <td>female</td>\n",
              "      <td>35.0</td>\n",
              "      <td>1</td>\n",
              "      <td>0</td>\n",
              "      <td>113803</td>\n",
              "      <td>53.1000</td>\n",
              "      <td>C123</td>\n",
              "      <td>S</td>\n",
              "    </tr>\n",
              "    <tr>\n",
              "      <th>4</th>\n",
              "      <td>5</td>\n",
              "      <td>0</td>\n",
              "      <td>3</td>\n",
              "      <td>Allen, Mr. William Henry</td>\n",
              "      <td>male</td>\n",
              "      <td>35.0</td>\n",
              "      <td>0</td>\n",
              "      <td>0</td>\n",
              "      <td>373450</td>\n",
              "      <td>8.0500</td>\n",
              "      <td>NaN</td>\n",
              "      <td>S</td>\n",
              "    </tr>\n",
              "  </tbody>\n",
              "</table>\n",
              "</div>"
            ],
            "text/plain": [
              "   PassengerId  Survived  Pclass  ...     Fare Cabin  Embarked\n",
              "0            1         0       3  ...   7.2500   NaN         S\n",
              "1            2         1       1  ...  71.2833   C85         C\n",
              "2            3         1       3  ...   7.9250   NaN         S\n",
              "3            4         1       1  ...  53.1000  C123         S\n",
              "4            5         0       3  ...   8.0500   NaN         S\n",
              "\n",
              "[5 rows x 12 columns]"
            ]
          },
          "metadata": {
            "tags": []
          },
          "execution_count": 3
        }
      ]
    },
    {
      "cell_type": "markdown",
      "metadata": {
        "id": "D_WG3OZhrrXC",
        "colab_type": "text"
      },
      "source": [
        "# 3. Checking the Data"
      ]
    },
    {
      "cell_type": "code",
      "metadata": {
        "id": "3lHOiNcPv9om",
        "colab_type": "code",
        "colab": {
          "base_uri": "https://localhost:8080/",
          "height": 34
        },
        "outputId": "522ec05f-1973-43ec-c8fc-c0e0862ac77f"
      },
      "source": [
        "# Determine the no of records in the dataset\n",
        "\n",
        "ship.shape"
      ],
      "execution_count": null,
      "outputs": [
        {
          "output_type": "execute_result",
          "data": {
            "text/plain": [
              "(891, 12)"
            ]
          },
          "metadata": {
            "tags": []
          },
          "execution_count": 4
        }
      ]
    },
    {
      "cell_type": "code",
      "metadata": {
        "id": "yqsRdfCiyQ9T",
        "colab_type": "code",
        "colab": {
          "base_uri": "https://localhost:8080/",
          "height": 238
        },
        "outputId": "45420928-b668-4b3a-9e4c-c58ee3beeaf8"
      },
      "source": [
        "# Check datatypes of the columns\n",
        "\n",
        "ship.dtypes"
      ],
      "execution_count": null,
      "outputs": [
        {
          "output_type": "execute_result",
          "data": {
            "text/plain": [
              "PassengerId      int64\n",
              "Survived         int64\n",
              "Pclass           int64\n",
              "Name            object\n",
              "Sex             object\n",
              "Age            float64\n",
              "SibSp            int64\n",
              "Parch            int64\n",
              "Ticket          object\n",
              "Fare           float64\n",
              "Cabin           object\n",
              "Embarked        object\n",
              "dtype: object"
            ]
          },
          "metadata": {
            "tags": []
          },
          "execution_count": 5
        }
      ]
    },
    {
      "cell_type": "code",
      "metadata": {
        "id": "HYhYlPko1Zka",
        "colab_type": "code",
        "colab": {
          "base_uri": "https://localhost:8080/",
          "height": 68
        },
        "outputId": "5bce8300-89b7-4ef6-b6d6-c80dc99a7a0b"
      },
      "source": [
        "# Check the unique values in each column\n",
        "\n",
        "ship.Survived.value_counts()"
      ],
      "execution_count": null,
      "outputs": [
        {
          "output_type": "execute_result",
          "data": {
            "text/plain": [
              "0    549\n",
              "1    342\n",
              "Name: Survived, dtype: int64"
            ]
          },
          "metadata": {
            "tags": []
          },
          "execution_count": 6
        }
      ]
    },
    {
      "cell_type": "code",
      "metadata": {
        "id": "2zcph1hj1zzj",
        "colab_type": "code",
        "colab": {
          "base_uri": "https://localhost:8080/",
          "height": 85
        },
        "outputId": "42214c2c-a871-43fa-e373-55ecfe5145ea"
      },
      "source": [
        "ship.Pclass.value_counts()"
      ],
      "execution_count": null,
      "outputs": [
        {
          "output_type": "execute_result",
          "data": {
            "text/plain": [
              "3    491\n",
              "1    216\n",
              "2    184\n",
              "Name: Pclass, dtype: int64"
            ]
          },
          "metadata": {
            "tags": []
          },
          "execution_count": 7
        }
      ]
    },
    {
      "cell_type": "code",
      "metadata": {
        "id": "6aBGEWti14V9",
        "colab_type": "code",
        "colab": {
          "base_uri": "https://localhost:8080/",
          "height": 68
        },
        "outputId": "3152a8b6-53b7-4235-af5a-6ca67c7da36e"
      },
      "source": [
        "ship.Sex.value_counts()"
      ],
      "execution_count": null,
      "outputs": [
        {
          "output_type": "execute_result",
          "data": {
            "text/plain": [
              "male      577\n",
              "female    314\n",
              "Name: Sex, dtype: int64"
            ]
          },
          "metadata": {
            "tags": []
          },
          "execution_count": 8
        }
      ]
    },
    {
      "cell_type": "code",
      "metadata": {
        "id": "Uk1gZ1NV2ekx",
        "colab_type": "code",
        "colab": {
          "base_uri": "https://localhost:8080/",
          "height": 153
        },
        "outputId": "b68a32ad-f727-4cfd-ee98-f45b315954fb"
      },
      "source": [
        "ship.SibSp.value_counts()"
      ],
      "execution_count": null,
      "outputs": [
        {
          "output_type": "execute_result",
          "data": {
            "text/plain": [
              "0    608\n",
              "1    209\n",
              "2     28\n",
              "4     18\n",
              "3     16\n",
              "8      7\n",
              "5      5\n",
              "Name: SibSp, dtype: int64"
            ]
          },
          "metadata": {
            "tags": []
          },
          "execution_count": 9
        }
      ]
    },
    {
      "cell_type": "code",
      "metadata": {
        "id": "K2Jy8RO724fh",
        "colab_type": "code",
        "colab": {
          "base_uri": "https://localhost:8080/",
          "height": 153
        },
        "outputId": "b1fc828c-8e63-4650-f4fd-721a908ab887"
      },
      "source": [
        "ship.Parch.value_counts()"
      ],
      "execution_count": null,
      "outputs": [
        {
          "output_type": "execute_result",
          "data": {
            "text/plain": [
              "0    678\n",
              "1    118\n",
              "2     80\n",
              "5      5\n",
              "3      5\n",
              "4      4\n",
              "6      1\n",
              "Name: Parch, dtype: int64"
            ]
          },
          "metadata": {
            "tags": []
          },
          "execution_count": 10
        }
      ]
    },
    {
      "cell_type": "code",
      "metadata": {
        "id": "0G4hlbha25ZR",
        "colab_type": "code",
        "colab": {
          "base_uri": "https://localhost:8080/",
          "height": 221
        },
        "outputId": "03ebec2f-520b-4258-a9dc-d13a144ea49e"
      },
      "source": [
        "ship.Cabin.value_counts()"
      ],
      "execution_count": null,
      "outputs": [
        {
          "output_type": "execute_result",
          "data": {
            "text/plain": [
              "G6             4\n",
              "B96 B98        4\n",
              "C23 C25 C27    4\n",
              "D              3\n",
              "F2             3\n",
              "              ..\n",
              "C99            1\n",
              "E34            1\n",
              "C118           1\n",
              "C54            1\n",
              "B19            1\n",
              "Name: Cabin, Length: 147, dtype: int64"
            ]
          },
          "metadata": {
            "tags": []
          },
          "execution_count": 11
        }
      ]
    },
    {
      "cell_type": "code",
      "metadata": {
        "id": "alSUDUoD26UB",
        "colab_type": "code",
        "colab": {
          "base_uri": "https://localhost:8080/",
          "height": 85
        },
        "outputId": "926d5716-3739-4119-8ec6-8a3bf80a664d"
      },
      "source": [
        "ship.Embarked.value_counts()"
      ],
      "execution_count": null,
      "outputs": [
        {
          "output_type": "execute_result",
          "data": {
            "text/plain": [
              "S    644\n",
              "C    168\n",
              "Q     77\n",
              "Name: Embarked, dtype: int64"
            ]
          },
          "metadata": {
            "tags": []
          },
          "execution_count": 12
        }
      ]
    },
    {
      "cell_type": "markdown",
      "metadata": {
        "id": "E7xM3Ol4rvNq",
        "colab_type": "text"
      },
      "source": [
        "# 4. External Data Source Validation"
      ]
    },
    {
      "cell_type": "markdown",
      "metadata": {
        "id": "eY5c9hP6r0EN",
        "colab_type": "text"
      },
      "source": [
        "# 5. Tidying the Dataset"
      ]
    },
    {
      "cell_type": "code",
      "metadata": {
        "id": "T24OBgdq5PQj",
        "colab_type": "code",
        "colab": {}
      },
      "source": [
        "# Drop unnecessary columns\n",
        "# I'll drop the PassengerId column, Name column and the Ticket column as they'll not be useful in making this classification model\n",
        "\n",
        "ship.drop(['PassengerId', 'Name', 'Ticket'], axis = 1, inplace = True) "
      ],
      "execution_count": null,
      "outputs": []
    },
    {
      "cell_type": "code",
      "metadata": {
        "id": "H9Rb_VuX-Ymc",
        "colab_type": "code",
        "colab": {
          "base_uri": "https://localhost:8080/",
          "height": 187
        },
        "outputId": "81aa5aea-a428-4601-d846-a33117814fea"
      },
      "source": [
        "# Check for missing values\n",
        "\n",
        "ship.isnull().sum()"
      ],
      "execution_count": null,
      "outputs": [
        {
          "output_type": "execute_result",
          "data": {
            "text/plain": [
              "Survived      0\n",
              "Pclass        0\n",
              "Sex           0\n",
              "Age         177\n",
              "SibSp         0\n",
              "Parch         0\n",
              "Fare          0\n",
              "Cabin       687\n",
              "Embarked      2\n",
              "dtype: int64"
            ]
          },
          "metadata": {
            "tags": []
          },
          "execution_count": 14
        }
      ]
    },
    {
      "cell_type": "code",
      "metadata": {
        "id": "hHWgzCmmAGhy",
        "colab_type": "code",
        "colab": {}
      },
      "source": [
        "# Since Cabin column has a lot of missing values, I'll drop the whole column entirely.\n",
        "\n",
        "ship.drop(['Cabin'], axis = 1, inplace = True)"
      ],
      "execution_count": null,
      "outputs": []
    },
    {
      "cell_type": "code",
      "metadata": {
        "id": "I6YOBApzBaw7",
        "colab_type": "code",
        "colab": {
          "base_uri": "https://localhost:8080/",
          "height": 296
        },
        "outputId": "d0b72355-1fa4-43f8-d835-2badb7f4714e"
      },
      "source": [
        "# For the Age column, I'll not drop it since it has a lot of missing values.\n",
        "\n",
        "# Let's look at how passenger age is related to their class as a passenger on the boat.\n",
        "# \n",
        "sns.boxplot(x='Pclass', y='Age', data=ship, palette='hls')\n",
        "\n",
        "# From the boxplots, younger passengers are more likely to be in 3rd class while older ones are more likely to be in 1st class."
      ],
      "execution_count": null,
      "outputs": [
        {
          "output_type": "execute_result",
          "data": {
            "text/plain": [
              "<matplotlib.axes._subplots.AxesSubplot at 0x7f8f8e3acf28>"
            ]
          },
          "metadata": {
            "tags": []
          },
          "execution_count": 16
        },
        {
          "output_type": "display_data",
          "data": {
            "image/png": "[encoded data removed]",
            "text/plain": [
              "<Figure size 432x288 with 1 Axes>"
            ]
          },
          "metadata": {
            "tags": [],
            "needs_background": "light"
          }
        }
      ]
    },
    {
      "cell_type": "code",
      "metadata": {
        "id": "EuD69R4HCPqC",
        "colab_type": "code",
        "colab": {}
      },
      "source": [
        "# Write a function that approximates a passenger's age based on their class\n",
        "# Average age of 1st class passengers is about 37, 2nd class passengers is 29, and 3rd class pasengers is 24.\n",
        "# Write a function that finds each null value in the Age variable, and for each null, checks the value of the Pclass\n",
        "# and assigns an age value according to the average age of passengers in that class.\n",
        "\n",
        "def age_approx(cols):\n",
        "    Age = cols[0]\n",
        "    Pclass = cols[1]\n",
        "    \n",
        "    if pd.isnull(Age):\n",
        "        if Pclass == 1:\n",
        "            return 37\n",
        "        elif Pclass == 2:\n",
        "            return 29\n",
        "        else:\n",
        "            return 24\n",
        "    else:\n",
        "        return Age"
      ],
      "execution_count": null,
      "outputs": []
    },
    {
      "cell_type": "code",
      "metadata": {
        "id": "0ZiHrpNiCQjG",
        "colab_type": "code",
        "colab": {
          "base_uri": "https://localhost:8080/",
          "height": 170
        },
        "outputId": "53ba6fdb-8cc5-40a3-ff73-9d7b4fb26f36"
      },
      "source": [
        "# When we apply the function and check again for null values, we see that there are no more null values in the age variable.\n",
        "#\n",
        "ship['Age'] = ship[['Age', 'Pclass']].apply(age_approx, axis=1)\n",
        "ship.isnull().sum()"
      ],
      "execution_count": null,
      "outputs": [
        {
          "output_type": "execute_result",
          "data": {
            "text/plain": [
              "Survived    0\n",
              "Pclass      0\n",
              "Sex         0\n",
              "Age         0\n",
              "SibSp       0\n",
              "Parch       0\n",
              "Fare        0\n",
              "Embarked    2\n",
              "dtype: int64"
            ]
          },
          "metadata": {
            "tags": []
          },
          "execution_count": 18
        }
      ]
    },
    {
      "cell_type": "code",
      "metadata": {
        "id": "lutFYrKOGOPz",
        "colab_type": "code",
        "colab": {
          "base_uri": "https://localhost:8080/",
          "height": 170
        },
        "outputId": "8215ffcb-ea9d-41e1-9714-f7a339f00a9a"
      },
      "source": [
        "# Embarked column has only 2 null values, so I'll drop them\n",
        "\n",
        "ship.dropna(inplace=True)\n",
        "ship.isnull().sum()"
      ],
      "execution_count": null,
      "outputs": [
        {
          "output_type": "execute_result",
          "data": {
            "text/plain": [
              "Survived    0\n",
              "Pclass      0\n",
              "Sex         0\n",
              "Age         0\n",
              "SibSp       0\n",
              "Parch       0\n",
              "Fare        0\n",
              "Embarked    0\n",
              "dtype: int64"
            ]
          },
          "metadata": {
            "tags": []
          },
          "execution_count": 19
        }
      ]
    },
    {
      "cell_type": "code",
      "metadata": {
        "id": "EtLzBGVNHewx",
        "colab_type": "code",
        "colab": {
          "base_uri": "https://localhost:8080/",
          "height": 34
        },
        "outputId": "36523eff-f6a5-4ad9-8296-4303cb0f113d"
      },
      "source": [
        "# Check for duplicated values\n",
        "\n",
        "ship.duplicated().any()"
      ],
      "execution_count": null,
      "outputs": [
        {
          "output_type": "execute_result",
          "data": {
            "text/plain": [
              "True"
            ]
          },
          "metadata": {
            "tags": []
          },
          "execution_count": 20
        }
      ]
    },
    {
      "cell_type": "code",
      "metadata": {
        "id": "1BDbKyfkHlo_",
        "colab_type": "code",
        "colab": {}
      },
      "source": [
        "# Drop the duplicated columns\n",
        "\n",
        "ship.drop_duplicates(keep = False, inplace = True)"
      ],
      "execution_count": null,
      "outputs": []
    },
    {
      "cell_type": "code",
      "metadata": {
        "id": "MEA0w_AIHrjC",
        "colab_type": "code",
        "colab": {
          "base_uri": "https://localhost:8080/",
          "height": 34
        },
        "outputId": "9a23f0b0-f1c2-44ef-a8b0-2543630ab834"
      },
      "source": [
        "# Check whether changes have been made\n",
        "\n",
        "ship.duplicated().any()"
      ],
      "execution_count": null,
      "outputs": [
        {
          "output_type": "execute_result",
          "data": {
            "text/plain": [
              "False"
            ]
          },
          "metadata": {
            "tags": []
          },
          "execution_count": 22
        }
      ]
    },
    {
      "cell_type": "code",
      "metadata": {
        "id": "FZkOuatQICWn",
        "colab_type": "code",
        "colab": {
          "base_uri": "https://localhost:8080/",
          "height": 136
        },
        "outputId": "71af31a0-2571-44c6-9860-777bae268e07"
      },
      "source": [
        "# Check for outliers\n",
        "\n",
        "# Find IQR Score first\n",
        "\n",
        "Q1 = ship.quantile(0.25)\n",
        "Q3 = ship.quantile(0.75)\n",
        "IQR = Q3 - Q1\n",
        "print(IQR)"
      ],
      "execution_count": null,
      "outputs": [
        {
          "output_type": "stream",
          "text": [
            "Survived     1.0000\n",
            "Pclass       2.0000\n",
            "Age         16.0000\n",
            "SibSp        1.0000\n",
            "Parch        1.0000\n",
            "Fare        28.3875\n",
            "dtype: float64\n"
          ],
          "name": "stdout"
        }
      ]
    },
    {
      "cell_type": "code",
      "metadata": {
        "id": "bfbBSjPkIWFA",
        "colab_type": "code",
        "colab": {
          "base_uri": "https://localhost:8080/",
          "height": 34
        },
        "outputId": "5c1db1d3-65fb-4ab1-dde3-d08d6f3fb2a3"
      },
      "source": [
        "ship.shape"
      ],
      "execution_count": null,
      "outputs": [
        {
          "output_type": "execute_result",
          "data": {
            "text/plain": [
              "(714, 8)"
            ]
          },
          "metadata": {
            "tags": []
          },
          "execution_count": 24
        }
      ]
    },
    {
      "cell_type": "code",
      "metadata": {
        "id": "8DkfQEVSIL6X",
        "colab_type": "code",
        "colab": {
          "base_uri": "https://localhost:8080/",
          "height": 419
        },
        "outputId": "a2743efa-628f-4ee1-eece-d91c99b38251"
      },
      "source": [
        "# Multiply the (IQR) by 1.5\n",
        "# Add 1.5 x (IQR) to the third quartile. Any number greater than this is a suspected outlier.\n",
        "# Subtract 1.5 x (IQR) from the first quartile. Any number less than this is a suspected outlier.\n",
        "\n",
        "(ship < (Q1 - 1.5 * IQR)) |(ship > (Q3 + 1.5 * IQR))\n",
        "\n",
        "\n",
        "# True indicates the prescence of an outlier"
      ],
      "execution_count": null,
      "outputs": [
        {
          "output_type": "execute_result",
          "data": {
            "text/html": [
              "<div>\n",
              "<style scoped>\n",
              "    .dataframe tbody tr th:only-of-type {\n",
              "        vertical-align: middle;\n",
              "    }\n",
              "\n",
              "    .dataframe tbody tr th {\n",
              "        vertical-align: top;\n",
              "    }\n",
              "\n",
              "    .dataframe thead th {\n",
              "        text-align: right;\n",
              "    }\n",
              "</style>\n",
              "<table border=\"1\" class=\"dataframe\">\n",
              "  <thead>\n",
              "    <tr style=\"text-align: right;\">\n",
              "      <th></th>\n",
              "      <th>Age</th>\n",
              "      <th>Embarked</th>\n",
              "      <th>Fare</th>\n",
              "      <th>Parch</th>\n",
              "      <th>Pclass</th>\n",
              "      <th>Sex</th>\n",
              "      <th>SibSp</th>\n",
              "      <th>Survived</th>\n",
              "    </tr>\n",
              "  </thead>\n",
              "  <tbody>\n",
              "    <tr>\n",
              "      <th>0</th>\n",
              "      <td>False</td>\n",
              "      <td>False</td>\n",
              "      <td>False</td>\n",
              "      <td>False</td>\n",
              "      <td>False</td>\n",
              "      <td>False</td>\n",
              "      <td>False</td>\n",
              "      <td>False</td>\n",
              "    </tr>\n",
              "    <tr>\n",
              "      <th>1</th>\n",
              "      <td>False</td>\n",
              "      <td>False</td>\n",
              "      <td>False</td>\n",
              "      <td>False</td>\n",
              "      <td>False</td>\n",
              "      <td>False</td>\n",
              "      <td>False</td>\n",
              "      <td>False</td>\n",
              "    </tr>\n",
              "    <tr>\n",
              "      <th>2</th>\n",
              "      <td>False</td>\n",
              "      <td>False</td>\n",
              "      <td>False</td>\n",
              "      <td>False</td>\n",
              "      <td>False</td>\n",
              "      <td>False</td>\n",
              "      <td>False</td>\n",
              "      <td>False</td>\n",
              "    </tr>\n",
              "    <tr>\n",
              "      <th>3</th>\n",
              "      <td>False</td>\n",
              "      <td>False</td>\n",
              "      <td>False</td>\n",
              "      <td>False</td>\n",
              "      <td>False</td>\n",
              "      <td>False</td>\n",
              "      <td>False</td>\n",
              "      <td>False</td>\n",
              "    </tr>\n",
              "    <tr>\n",
              "      <th>5</th>\n",
              "      <td>False</td>\n",
              "      <td>False</td>\n",
              "      <td>False</td>\n",
              "      <td>False</td>\n",
              "      <td>False</td>\n",
              "      <td>False</td>\n",
              "      <td>False</td>\n",
              "      <td>False</td>\n",
              "    </tr>\n",
              "    <tr>\n",
              "      <th>...</th>\n",
              "      <td>...</td>\n",
              "      <td>...</td>\n",
              "      <td>...</td>\n",
              "      <td>...</td>\n",
              "      <td>...</td>\n",
              "      <td>...</td>\n",
              "      <td>...</td>\n",
              "      <td>...</td>\n",
              "    </tr>\n",
              "    <tr>\n",
              "      <th>885</th>\n",
              "      <td>False</td>\n",
              "      <td>False</td>\n",
              "      <td>False</td>\n",
              "      <td>True</td>\n",
              "      <td>False</td>\n",
              "      <td>False</td>\n",
              "      <td>False</td>\n",
              "      <td>False</td>\n",
              "    </tr>\n",
              "    <tr>\n",
              "      <th>887</th>\n",
              "      <td>False</td>\n",
              "      <td>False</td>\n",
              "      <td>False</td>\n",
              "      <td>False</td>\n",
              "      <td>False</td>\n",
              "      <td>False</td>\n",
              "      <td>False</td>\n",
              "      <td>False</td>\n",
              "    </tr>\n",
              "    <tr>\n",
              "      <th>888</th>\n",
              "      <td>False</td>\n",
              "      <td>False</td>\n",
              "      <td>False</td>\n",
              "      <td>False</td>\n",
              "      <td>False</td>\n",
              "      <td>False</td>\n",
              "      <td>False</td>\n",
              "      <td>False</td>\n",
              "    </tr>\n",
              "    <tr>\n",
              "      <th>889</th>\n",
              "      <td>False</td>\n",
              "      <td>False</td>\n",
              "      <td>False</td>\n",
              "      <td>False</td>\n",
              "      <td>False</td>\n",
              "      <td>False</td>\n",
              "      <td>False</td>\n",
              "      <td>False</td>\n",
              "    </tr>\n",
              "    <tr>\n",
              "      <th>890</th>\n",
              "      <td>False</td>\n",
              "      <td>False</td>\n",
              "      <td>False</td>\n",
              "      <td>False</td>\n",
              "      <td>False</td>\n",
              "      <td>False</td>\n",
              "      <td>False</td>\n",
              "      <td>False</td>\n",
              "    </tr>\n",
              "  </tbody>\n",
              "</table>\n",
              "<p>714 rows × 8 columns</p>\n",
              "</div>"
            ],
            "text/plain": [
              "       Age  Embarked   Fare  Parch  Pclass    Sex  SibSp  Survived\n",
              "0    False     False  False  False   False  False  False     False\n",
              "1    False     False  False  False   False  False  False     False\n",
              "2    False     False  False  False   False  False  False     False\n",
              "3    False     False  False  False   False  False  False     False\n",
              "5    False     False  False  False   False  False  False     False\n",
              "..     ...       ...    ...    ...     ...    ...    ...       ...\n",
              "885  False     False  False   True   False  False  False     False\n",
              "887  False     False  False  False   False  False  False     False\n",
              "888  False     False  False  False   False  False  False     False\n",
              "889  False     False  False  False   False  False  False     False\n",
              "890  False     False  False  False   False  False  False     False\n",
              "\n",
              "[714 rows x 8 columns]"
            ]
          },
          "metadata": {
            "tags": []
          },
          "execution_count": 25
        }
      ]
    },
    {
      "cell_type": "code",
      "metadata": {
        "id": "Lci5ju0JISf0",
        "colab_type": "code",
        "colab": {
          "base_uri": "https://localhost:8080/",
          "height": 34
        },
        "outputId": "13d8371e-4f1f-4ad9-d30f-e679cfd873fe"
      },
      "source": [
        "# Remove the outliers\n",
        "\n",
        "ship_outliers = ship[~((ship < (Q1 - 1.5 * IQR)) |(ship > (Q3 + 1.5 * IQR))).any(axis=1)]\n",
        "ship_outliers.shape"
      ],
      "execution_count": null,
      "outputs": [
        {
          "output_type": "execute_result",
          "data": {
            "text/plain": [
              "(571, 8)"
            ]
          },
          "metadata": {
            "tags": []
          },
          "execution_count": 26
        }
      ]
    },
    {
      "cell_type": "code",
      "metadata": {
        "id": "WqROo5QuLHMk",
        "colab_type": "code",
        "colab": {}
      },
      "source": [
        "# Export the cleaned dataset\n",
        "\n",
        "ship_outliers.to_csv('ship_clean.csv')"
      ],
      "execution_count": null,
      "outputs": []
    },
    {
      "cell_type": "code",
      "metadata": {
        "id": "L4htztHfLfau",
        "colab_type": "code",
        "colab": {
          "base_uri": "https://localhost:8080/",
          "height": 204
        },
        "outputId": "3858a647-80f1-4b33-9380-60f7a85ac3e6"
      },
      "source": [
        "ship_clean = pd.read_csv('ship_clean.csv')\n",
        "ship_clean.head()"
      ],
      "execution_count": null,
      "outputs": [
        {
          "output_type": "execute_result",
          "data": {
            "text/html": [
              "<div>\n",
              "<style scoped>\n",
              "    .dataframe tbody tr th:only-of-type {\n",
              "        vertical-align: middle;\n",
              "    }\n",
              "\n",
              "    .dataframe tbody tr th {\n",
              "        vertical-align: top;\n",
              "    }\n",
              "\n",
              "    .dataframe thead th {\n",
              "        text-align: right;\n",
              "    }\n",
              "</style>\n",
              "<table border=\"1\" class=\"dataframe\">\n",
              "  <thead>\n",
              "    <tr style=\"text-align: right;\">\n",
              "      <th></th>\n",
              "      <th>Unnamed: 0</th>\n",
              "      <th>Survived</th>\n",
              "      <th>Pclass</th>\n",
              "      <th>Sex</th>\n",
              "      <th>Age</th>\n",
              "      <th>SibSp</th>\n",
              "      <th>Parch</th>\n",
              "      <th>Fare</th>\n",
              "      <th>Embarked</th>\n",
              "    </tr>\n",
              "  </thead>\n",
              "  <tbody>\n",
              "    <tr>\n",
              "      <th>0</th>\n",
              "      <td>0</td>\n",
              "      <td>0</td>\n",
              "      <td>3</td>\n",
              "      <td>male</td>\n",
              "      <td>22.0</td>\n",
              "      <td>1</td>\n",
              "      <td>0</td>\n",
              "      <td>7.2500</td>\n",
              "      <td>S</td>\n",
              "    </tr>\n",
              "    <tr>\n",
              "      <th>1</th>\n",
              "      <td>1</td>\n",
              "      <td>1</td>\n",
              "      <td>1</td>\n",
              "      <td>female</td>\n",
              "      <td>38.0</td>\n",
              "      <td>1</td>\n",
              "      <td>0</td>\n",
              "      <td>71.2833</td>\n",
              "      <td>C</td>\n",
              "    </tr>\n",
              "    <tr>\n",
              "      <th>2</th>\n",
              "      <td>2</td>\n",
              "      <td>1</td>\n",
              "      <td>3</td>\n",
              "      <td>female</td>\n",
              "      <td>26.0</td>\n",
              "      <td>0</td>\n",
              "      <td>0</td>\n",
              "      <td>7.9250</td>\n",
              "      <td>S</td>\n",
              "    </tr>\n",
              "    <tr>\n",
              "      <th>3</th>\n",
              "      <td>3</td>\n",
              "      <td>1</td>\n",
              "      <td>1</td>\n",
              "      <td>female</td>\n",
              "      <td>35.0</td>\n",
              "      <td>1</td>\n",
              "      <td>0</td>\n",
              "      <td>53.1000</td>\n",
              "      <td>S</td>\n",
              "    </tr>\n",
              "    <tr>\n",
              "      <th>4</th>\n",
              "      <td>5</td>\n",
              "      <td>0</td>\n",
              "      <td>3</td>\n",
              "      <td>male</td>\n",
              "      <td>24.0</td>\n",
              "      <td>0</td>\n",
              "      <td>0</td>\n",
              "      <td>8.4583</td>\n",
              "      <td>Q</td>\n",
              "    </tr>\n",
              "  </tbody>\n",
              "</table>\n",
              "</div>"
            ],
            "text/plain": [
              "   Unnamed: 0  Survived  Pclass     Sex   Age  SibSp  Parch     Fare Embarked\n",
              "0           0         0       3    male  22.0      1      0   7.2500        S\n",
              "1           1         1       1  female  38.0      1      0  71.2833        C\n",
              "2           2         1       3  female  26.0      0      0   7.9250        S\n",
              "3           3         1       1  female  35.0      1      0  53.1000        S\n",
              "4           5         0       3    male  24.0      0      0   8.4583        Q"
            ]
          },
          "metadata": {
            "tags": []
          },
          "execution_count": 28
        }
      ]
    },
    {
      "cell_type": "markdown",
      "metadata": {
        "id": "ZwoBFDE2r5CP",
        "colab_type": "text"
      },
      "source": [
        "# 6. Exploratory Data Analysis"
      ]
    },
    {
      "cell_type": "markdown",
      "metadata": {
        "id": "80OPdtRQLwqs",
        "colab_type": "text"
      },
      "source": [
        "## a) Univariate Analysis"
      ]
    },
    {
      "cell_type": "code",
      "metadata": {
        "id": "Y-vr-oB_MU1o",
        "colab_type": "code",
        "colab": {
          "base_uri": "https://localhost:8080/"
        },
        "outputId": "3b7b8a72-0128-4e5f-8f2e-f372b561cfce"
      },
      "source": [
        "sns.distplot(ship_clean[\"Survived\"])"
      ],
      "execution_count": null,
      "outputs": [
        {
          "output_type": "execute_result",
          "data": {
            "text/plain": [
              "<matplotlib.axes._subplots.AxesSubplot at 0x7f8f8c90dc50>"
            ]
          },
          "metadata": {
            "tags": []
          },
          "execution_count": 29
        },
        {
          "output_type": "display_data",
          "data": {
            "image/png": "[encoded data removed]",
            "text/plain": [
              "<Figure size 432x288 with 1 Axes>"
            ]
          },
          "metadata": {
            "tags": [],
            "needs_background": "light"
          }
        }
      ]
    },
    {
      "cell_type": "code",
      "metadata": {
        "id": "5aYlGgIoMnjI",
        "colab_type": "code",
        "colab": {
          "base_uri": "https://localhost:8080/"
        },
        "outputId": "5984ae57-c477-458c-e984-ab8edc705faf"
      },
      "source": [
        "sns.distplot(ship_clean[\"Pclass\"])"
      ],
      "execution_count": null,
      "outputs": [
        {
          "output_type": "execute_result",
          "data": {
            "text/plain": [
              "<matplotlib.axes._subplots.AxesSubplot at 0x7f8f8c90db00>"
            ]
          },
          "metadata": {
            "tags": []
          },
          "execution_count": 30
        },
        {
          "output_type": "display_data",
          "data": {
            "image/png": "[encoded data removed]",
            "text/plain": [
              "<Figure size 432x288 with 1 Axes>"
            ]
          },
          "metadata": {
            "tags": [],
            "needs_background": "light"
          }
        }
      ]
    },
    {
      "cell_type": "code",
      "metadata": {
        "id": "o1rDiBYHMu7F",
        "colab_type": "code",
        "colab": {
          "base_uri": "https://localhost:8080/"
        },
        "outputId": "747a9e30-4f71-4af5-db18-3e7bea59ccfd"
      },
      "source": [
        "sns.distplot(ship_clean[\"Age\"])"
      ],
      "execution_count": null,
      "outputs": [
        {
          "output_type": "execute_result",
          "data": {
            "text/plain": [
              "<matplotlib.axes._subplots.AxesSubplot at 0x7f8f8c7a0160>"
            ]
          },
          "metadata": {
            "tags": []
          },
          "execution_count": 31
        },
        {
          "output_type": "display_data",
          "data": {
            "image/png": "[encoded data removed]",
            "text/plain": [
              "<Figure size 432x288 with 1 Axes>"
            ]
          },
          "metadata": {
            "tags": [],
            "needs_background": "light"
          }
        }
      ]
    },
    {
      "cell_type": "code",
      "metadata": {
        "id": "vQtAL-UcMwkb",
        "colab_type": "code",
        "colab": {
          "base_uri": "https://localhost:8080/"
        },
        "outputId": "707df2d1-a92c-42f0-c69d-b04382cdae7f"
      },
      "source": [
        "sns.distplot(ship_clean[\"SibSp\"])"
      ],
      "execution_count": null,
      "outputs": [
        {
          "output_type": "execute_result",
          "data": {
            "text/plain": [
              "<matplotlib.axes._subplots.AxesSubplot at 0x7f8f8c73b128>"
            ]
          },
          "metadata": {
            "tags": []
          },
          "execution_count": 32
        },
        {
          "output_type": "display_data",
          "data": {
            "image/png": "[encoded data removed]",
            "text/plain": [
              "<Figure size 432x288 with 1 Axes>"
            ]
          },
          "metadata": {
            "tags": [],
            "needs_background": "light"
          }
        }
      ]
    },
    {
      "cell_type": "code",
      "metadata": {
        "id": "vUZrJhmaM0Is",
        "colab_type": "code",
        "colab": {
          "base_uri": "https://localhost:8080/"
        },
        "outputId": "a94c6635-d09e-4826-cf2d-d68f541b20ed"
      },
      "source": [
        "sns.distplot(ship_clean[\"Parch\"])"
      ],
      "execution_count": null,
      "outputs": [
        {
          "output_type": "execute_result",
          "data": {
            "text/plain": [
              "<matplotlib.axes._subplots.AxesSubplot at 0x7f8f8c6db9b0>"
            ]
          },
          "metadata": {
            "tags": []
          },
          "execution_count": 33
        },
        {
          "output_type": "display_data",
          "data": {
            "image/png": "[encoded data removed]",
            "text/plain": [
              "<Figure size 432x288 with 1 Axes>"
            ]
          },
          "metadata": {
            "tags": [],
            "needs_background": "light"
          }
        }
      ]
    },
    {
      "cell_type": "code",
      "metadata": {
        "id": "iqYuKeg5M2-W",
        "colab_type": "code",
        "colab": {
          "base_uri": "https://localhost:8080/"
        },
        "outputId": "5cc20a62-303e-487e-8f22-06b21be17368"
      },
      "source": [
        "sns.distplot(ship_clean[\"Fare\"])"
      ],
      "execution_count": null,
      "outputs": [
        {
          "output_type": "execute_result",
          "data": {
            "text/plain": [
              "<matplotlib.axes._subplots.AxesSubplot at 0x7f8f8c5d6710>"
            ]
          },
          "metadata": {
            "tags": []
          },
          "execution_count": 34
        },
        {
          "output_type": "display_data",
          "data": {
            "image/png": "[encoded data removed]",
            "text/plain": [
              "<Figure size 432x288 with 1 Axes>"
            ]
          },
          "metadata": {
            "tags": [],
            "needs_background": "light"
          }
        }
      ]
    },
    {
      "cell_type": "markdown",
      "metadata": {
        "id": "j4Nayf5FNyBy",
        "colab_type": "text"
      },
      "source": [
        "**Observation**\n",
        "\n",
        "1. Most of the passengers in the Titanic did not survive\n",
        "2. Most of the passengers were in 3rd class\n",
        "3. The mean age of the passengers is around 25.\n",
        "4. Most of the passengers did not have any siblings, spouses, parents or children aboard.\n",
        "5. The average fare paid by the passengers is around 5 pounds.\n"
      ]
    },
    {
      "cell_type": "markdown",
      "metadata": {
        "id": "B7b_ewrQL1NE",
        "colab_type": "text"
      },
      "source": [
        "## b) Bivariate Analysis"
      ]
    },
    {
      "cell_type": "code",
      "metadata": {
        "id": "DK6YaldhO8C1",
        "colab_type": "code",
        "colab": {
          "base_uri": "https://localhost:8080/"
        },
        "outputId": "3d031f35-32f1-4788-9dd8-1dae720b8d94"
      },
      "source": [
        "# Create double bar graphs\n",
        "\n",
        "f, axes = plt.subplots(5, 1, figsize=[20, 40])\n",
        "\n",
        "sns.countplot('Pclass', hue= 'Survived', data=ship_clean, ax=axes[0])\n",
        "sns.countplot('Sex', hue= 'Survived', data=ship_clean, ax=axes[1])\n",
        "sns.countplot('SibSp', hue= 'Survived', data=ship_clean, ax=axes[2])\n",
        "sns.countplot('Parch', hue= 'Survived', data=ship_clean, ax=axes[3])\n",
        "sns.countplot('Embarked', hue= 'Survived', data=ship_clean, ax=axes[4])"
      ],
      "execution_count": null,
      "outputs": [
        {
          "output_type": "execute_result",
          "data": {
            "text/plain": [
              "<matplotlib.axes._subplots.AxesSubplot at 0x7f8f8c4a8940>"
            ]
          },
          "metadata": {
            "tags": []
          },
          "execution_count": 35
        },
        {
          "output_type": "display_data",
          "data": {
            "image/png": "[encoded data removed]",
            "text/plain": [
              "<Figure size 1440x2880 with 5 Axes>"
            ]
          },
          "metadata": {
            "tags": [],
            "needs_background": "light"
          }
        }
      ]
    },
    {
      "cell_type": "markdown",
      "metadata": {
        "id": "2jRv-3O1Rumy",
        "colab_type": "text"
      },
      "source": [
        "**Observation**\n",
        "1. A bigger proportion of people in 1st class survived than in any of the other 2 classes.\n",
        "2. More females than males survived."
      ]
    },
    {
      "cell_type": "code",
      "metadata": {
        "id": "gIT02NnIUELU",
        "colab_type": "code",
        "colab": {
          "base_uri": "https://localhost:8080/"
        },
        "outputId": "371234a7-867c-469a-9a89-b1a59ce0def3"
      },
      "source": [
        "# Change categorical data to numerical data so I can create a correlation matrix.\n",
        "\n",
        "le = LabelEncoder()\n",
        "ship_clean['Sex'] = le.fit_transform(ship_clean['Sex'])\n",
        "ship_clean['Embarked'] = le.fit_transform(ship_clean['Embarked'])\n",
        "ship_clean"
      ],
      "execution_count": null,
      "outputs": [
        {
          "output_type": "execute_result",
          "data": {
            "text/html": [
              "<div>\n",
              "<style scoped>\n",
              "    .dataframe tbody tr th:only-of-type {\n",
              "        vertical-align: middle;\n",
              "    }\n",
              "\n",
              "    .dataframe tbody tr th {\n",
              "        vertical-align: top;\n",
              "    }\n",
              "\n",
              "    .dataframe thead th {\n",
              "        text-align: right;\n",
              "    }\n",
              "</style>\n",
              "<table border=\"1\" class=\"dataframe\">\n",
              "  <thead>\n",
              "    <tr style=\"text-align: right;\">\n",
              "      <th></th>\n",
              "      <th>Unnamed: 0</th>\n",
              "      <th>Survived</th>\n",
              "      <th>Pclass</th>\n",
              "      <th>Sex</th>\n",
              "      <th>Age</th>\n",
              "      <th>SibSp</th>\n",
              "      <th>Parch</th>\n",
              "      <th>Fare</th>\n",
              "      <th>Embarked</th>\n",
              "    </tr>\n",
              "  </thead>\n",
              "  <tbody>\n",
              "    <tr>\n",
              "      <th>0</th>\n",
              "      <td>0</td>\n",
              "      <td>0</td>\n",
              "      <td>3</td>\n",
              "      <td>1</td>\n",
              "      <td>22.0</td>\n",
              "      <td>1</td>\n",
              "      <td>0</td>\n",
              "      <td>7.2500</td>\n",
              "      <td>2</td>\n",
              "    </tr>\n",
              "    <tr>\n",
              "      <th>1</th>\n",
              "      <td>1</td>\n",
              "      <td>1</td>\n",
              "      <td>1</td>\n",
              "      <td>0</td>\n",
              "      <td>38.0</td>\n",
              "      <td>1</td>\n",
              "      <td>0</td>\n",
              "      <td>71.2833</td>\n",
              "      <td>0</td>\n",
              "    </tr>\n",
              "    <tr>\n",
              "      <th>2</th>\n",
              "      <td>2</td>\n",
              "      <td>1</td>\n",
              "      <td>3</td>\n",
              "      <td>0</td>\n",
              "      <td>26.0</td>\n",
              "      <td>0</td>\n",
              "      <td>0</td>\n",
              "      <td>7.9250</td>\n",
              "      <td>2</td>\n",
              "    </tr>\n",
              "    <tr>\n",
              "      <th>3</th>\n",
              "      <td>3</td>\n",
              "      <td>1</td>\n",
              "      <td>1</td>\n",
              "      <td>0</td>\n",
              "      <td>35.0</td>\n",
              "      <td>1</td>\n",
              "      <td>0</td>\n",
              "      <td>53.1000</td>\n",
              "      <td>2</td>\n",
              "    </tr>\n",
              "    <tr>\n",
              "      <th>4</th>\n",
              "      <td>5</td>\n",
              "      <td>0</td>\n",
              "      <td>3</td>\n",
              "      <td>1</td>\n",
              "      <td>24.0</td>\n",
              "      <td>0</td>\n",
              "      <td>0</td>\n",
              "      <td>8.4583</td>\n",
              "      <td>1</td>\n",
              "    </tr>\n",
              "    <tr>\n",
              "      <th>...</th>\n",
              "      <td>...</td>\n",
              "      <td>...</td>\n",
              "      <td>...</td>\n",
              "      <td>...</td>\n",
              "      <td>...</td>\n",
              "      <td>...</td>\n",
              "      <td>...</td>\n",
              "      <td>...</td>\n",
              "      <td>...</td>\n",
              "    </tr>\n",
              "    <tr>\n",
              "      <th>566</th>\n",
              "      <td>883</td>\n",
              "      <td>0</td>\n",
              "      <td>2</td>\n",
              "      <td>1</td>\n",
              "      <td>28.0</td>\n",
              "      <td>0</td>\n",
              "      <td>0</td>\n",
              "      <td>10.5000</td>\n",
              "      <td>2</td>\n",
              "    </tr>\n",
              "    <tr>\n",
              "      <th>567</th>\n",
              "      <td>887</td>\n",
              "      <td>1</td>\n",
              "      <td>1</td>\n",
              "      <td>0</td>\n",
              "      <td>19.0</td>\n",
              "      <td>0</td>\n",
              "      <td>0</td>\n",
              "      <td>30.0000</td>\n",
              "      <td>2</td>\n",
              "    </tr>\n",
              "    <tr>\n",
              "      <th>568</th>\n",
              "      <td>888</td>\n",
              "      <td>0</td>\n",
              "      <td>3</td>\n",
              "      <td>0</td>\n",
              "      <td>24.0</td>\n",
              "      <td>1</td>\n",
              "      <td>2</td>\n",
              "      <td>23.4500</td>\n",
              "      <td>2</td>\n",
              "    </tr>\n",
              "    <tr>\n",
              "      <th>569</th>\n",
              "      <td>889</td>\n",
              "      <td>1</td>\n",
              "      <td>1</td>\n",
              "      <td>1</td>\n",
              "      <td>26.0</td>\n",
              "      <td>0</td>\n",
              "      <td>0</td>\n",
              "      <td>30.0000</td>\n",
              "      <td>0</td>\n",
              "    </tr>\n",
              "    <tr>\n",
              "      <th>570</th>\n",
              "      <td>890</td>\n",
              "      <td>0</td>\n",
              "      <td>3</td>\n",
              "      <td>1</td>\n",
              "      <td>32.0</td>\n",
              "      <td>0</td>\n",
              "      <td>0</td>\n",
              "      <td>7.7500</td>\n",
              "      <td>1</td>\n",
              "    </tr>\n",
              "  </tbody>\n",
              "</table>\n",
              "<p>571 rows × 9 columns</p>\n",
              "</div>"
            ],
            "text/plain": [
              "     Unnamed: 0  Survived  Pclass  Sex   Age  SibSp  Parch     Fare  Embarked\n",
              "0             0         0       3    1  22.0      1      0   7.2500         2\n",
              "1             1         1       1    0  38.0      1      0  71.2833         0\n",
              "2             2         1       3    0  26.0      0      0   7.9250         2\n",
              "3             3         1       1    0  35.0      1      0  53.1000         2\n",
              "4             5         0       3    1  24.0      0      0   8.4583         1\n",
              "..          ...       ...     ...  ...   ...    ...    ...      ...       ...\n",
              "566         883         0       2    1  28.0      0      0  10.5000         2\n",
              "567         887         1       1    0  19.0      0      0  30.0000         2\n",
              "568         888         0       3    0  24.0      1      2  23.4500         2\n",
              "569         889         1       1    1  26.0      0      0  30.0000         0\n",
              "570         890         0       3    1  32.0      0      0   7.7500         1\n",
              "\n",
              "[571 rows x 9 columns]"
            ]
          },
          "metadata": {
            "tags": []
          },
          "execution_count": 36
        }
      ]
    },
    {
      "cell_type": "code",
      "metadata": {
        "id": "lwkmoWhDU524",
        "colab_type": "code",
        "colab": {
          "base_uri": "https://localhost:8080/"
        },
        "outputId": "d4d5f88f-74b7-40f3-fb48-ccfede9e1178"
      },
      "source": [
        "# Create a correlation matrix\n",
        "correlation = ship_clean.corr()\n",
        "correlation\n",
        "\n",
        "\n",
        "fig, ax = plt.subplots(figsize=(10, 10)) \n",
        "sns.heatmap(correlation, annot=True,  linewidths=.5, ax=ax, cmap=\"YlGnBu\")"
      ],
      "execution_count": null,
      "outputs": [
        {
          "output_type": "execute_result",
          "data": {
            "text/plain": [
              "<matplotlib.axes._subplots.AxesSubplot at 0x7f8f8c36f1d0>"
            ]
          },
          "metadata": {
            "tags": []
          },
          "execution_count": 37
        },
        {
          "output_type": "display_data",
          "data": {
            "image/png": "[encoded data removed]",
            "text/plain": [
              "<Figure size 720x720 with 2 Axes>"
            ]
          },
          "metadata": {
            "tags": [],
            "needs_background": "light"
          }
        }
      ]
    },
    {
      "cell_type": "markdown",
      "metadata": {
        "id": "GgxPx_pMVwTy",
        "colab_type": "text"
      },
      "source": [
        "**Observation**\n",
        "1. Pclass and Fare are negatively strongly correlated meaning that as one decreases, the other increases."
      ]
    },
    {
      "cell_type": "markdown",
      "metadata": {
        "id": "-uj-Gqstr-7R",
        "colab_type": "text"
      },
      "source": [
        "# 7. K-Nearest Neighbors"
      ]
    },
    {
      "cell_type": "markdown",
      "metadata": {
        "id": "FmeHKksbWnx-",
        "colab_type": "text"
      },
      "source": [
        "## Multicollinearity check"
      ]
    },
    {
      "cell_type": "code",
      "metadata": {
        "id": "StnlxIwmWvZe",
        "colab_type": "code",
        "colab": {
          "base_uri": "https://localhost:8080/",
          "height": 266
        },
        "outputId": "c313815d-5e16-4a16-ad0a-afef1004278c"
      },
      "source": [
        "# Focus here is on the independent variables only\n",
        "independent_variables = ship_clean.drop(columns=['Unnamed: 0', 'Survived'])\n",
        "\n",
        "# Let's display the correlations between the variables\n",
        "a = independent_variables.corr()\n",
        "a"
      ],
      "execution_count": null,
      "outputs": [
        {
          "output_type": "execute_result",
          "data": {
            "text/html": [
              "<div>\n",
              "<style scoped>\n",
              "    .dataframe tbody tr th:only-of-type {\n",
              "        vertical-align: middle;\n",
              "    }\n",
              "\n",
              "    .dataframe tbody tr th {\n",
              "        vertical-align: top;\n",
              "    }\n",
              "\n",
              "    .dataframe thead th {\n",
              "        text-align: right;\n",
              "    }\n",
              "</style>\n",
              "<table border=\"1\" class=\"dataframe\">\n",
              "  <thead>\n",
              "    <tr style=\"text-align: right;\">\n",
              "      <th></th>\n",
              "      <th>Pclass</th>\n",
              "      <th>Sex</th>\n",
              "      <th>Age</th>\n",
              "      <th>SibSp</th>\n",
              "      <th>Parch</th>\n",
              "      <th>Fare</th>\n",
              "      <th>Embarked</th>\n",
              "    </tr>\n",
              "  </thead>\n",
              "  <tbody>\n",
              "    <tr>\n",
              "      <th>Pclass</th>\n",
              "      <td>1.000000</td>\n",
              "      <td>0.038069</td>\n",
              "      <td>-0.391099</td>\n",
              "      <td>-0.040120</td>\n",
              "      <td>0.005991</td>\n",
              "      <td>-0.714633</td>\n",
              "      <td>0.046464</td>\n",
              "    </tr>\n",
              "    <tr>\n",
              "      <th>Sex</th>\n",
              "      <td>0.038069</td>\n",
              "      <td>1.000000</td>\n",
              "      <td>0.150118</td>\n",
              "      <td>-0.138850</td>\n",
              "      <td>-0.272786</td>\n",
              "      <td>-0.126339</td>\n",
              "      <td>0.095193</td>\n",
              "    </tr>\n",
              "    <tr>\n",
              "      <th>Age</th>\n",
              "      <td>-0.391099</td>\n",
              "      <td>0.150118</td>\n",
              "      <td>1.000000</td>\n",
              "      <td>-0.116281</td>\n",
              "      <td>-0.282041</td>\n",
              "      <td>0.210738</td>\n",
              "      <td>0.053948</td>\n",
              "    </tr>\n",
              "    <tr>\n",
              "      <th>SibSp</th>\n",
              "      <td>-0.040120</td>\n",
              "      <td>-0.138850</td>\n",
              "      <td>-0.116281</td>\n",
              "      <td>1.000000</td>\n",
              "      <td>0.208854</td>\n",
              "      <td>0.323002</td>\n",
              "      <td>-0.007411</td>\n",
              "    </tr>\n",
              "    <tr>\n",
              "      <th>Parch</th>\n",
              "      <td>0.005991</td>\n",
              "      <td>-0.272786</td>\n",
              "      <td>-0.282041</td>\n",
              "      <td>0.208854</td>\n",
              "      <td>1.000000</td>\n",
              "      <td>0.176579</td>\n",
              "      <td>-0.021924</td>\n",
              "    </tr>\n",
              "    <tr>\n",
              "      <th>Fare</th>\n",
              "      <td>-0.714633</td>\n",
              "      <td>-0.126339</td>\n",
              "      <td>0.210738</td>\n",
              "      <td>0.323002</td>\n",
              "      <td>0.176579</td>\n",
              "      <td>1.000000</td>\n",
              "      <td>-0.103399</td>\n",
              "    </tr>\n",
              "    <tr>\n",
              "      <th>Embarked</th>\n",
              "      <td>0.046464</td>\n",
              "      <td>0.095193</td>\n",
              "      <td>0.053948</td>\n",
              "      <td>-0.007411</td>\n",
              "      <td>-0.021924</td>\n",
              "      <td>-0.103399</td>\n",
              "      <td>1.000000</td>\n",
              "    </tr>\n",
              "  </tbody>\n",
              "</table>\n",
              "</div>"
            ],
            "text/plain": [
              "            Pclass       Sex       Age     SibSp     Parch      Fare  Embarked\n",
              "Pclass    1.000000  0.038069 -0.391099 -0.040120  0.005991 -0.714633  0.046464\n",
              "Sex       0.038069  1.000000  0.150118 -0.138850 -0.272786 -0.126339  0.095193\n",
              "Age      -0.391099  0.150118  1.000000 -0.116281 -0.282041  0.210738  0.053948\n",
              "SibSp    -0.040120 -0.138850 -0.116281  1.000000  0.208854  0.323002 -0.007411\n",
              "Parch     0.005991 -0.272786 -0.282041  0.208854  1.000000  0.176579 -0.021924\n",
              "Fare     -0.714633 -0.126339  0.210738  0.323002  0.176579  1.000000 -0.103399\n",
              "Embarked  0.046464  0.095193  0.053948 -0.007411 -0.021924 -0.103399  1.000000"
            ]
          },
          "metadata": {
            "tags": []
          },
          "execution_count": 38
        }
      ]
    },
    {
      "cell_type": "code",
      "metadata": {
        "id": "noGNAQiSXGR_",
        "colab_type": "code",
        "colab": {
          "base_uri": "https://localhost:8080/",
          "height": 266
        },
        "outputId": "45bf56b9-d1f3-4808-89cb-af86473ad12b"
      },
      "source": [
        "# Find the inverse of the correlation matrix\n",
        "\n",
        "pd.DataFrame(np.linalg.inv(a.values), index = a.index, columns=a.columns)"
      ],
      "execution_count": null,
      "outputs": [
        {
          "output_type": "execute_result",
          "data": {
            "text/html": [
              "<div>\n",
              "<style scoped>\n",
              "    .dataframe tbody tr th:only-of-type {\n",
              "        vertical-align: middle;\n",
              "    }\n",
              "\n",
              "    .dataframe tbody tr th {\n",
              "        vertical-align: top;\n",
              "    }\n",
              "\n",
              "    .dataframe thead th {\n",
              "        text-align: right;\n",
              "    }\n",
              "</style>\n",
              "<table border=\"1\" class=\"dataframe\">\n",
              "  <thead>\n",
              "    <tr style=\"text-align: right;\">\n",
              "      <th></th>\n",
              "      <th>Pclass</th>\n",
              "      <th>Sex</th>\n",
              "      <th>Age</th>\n",
              "      <th>SibSp</th>\n",
              "      <th>Parch</th>\n",
              "      <th>Fare</th>\n",
              "      <th>Embarked</th>\n",
              "    </tr>\n",
              "  </thead>\n",
              "  <tbody>\n",
              "    <tr>\n",
              "      <th>Pclass</th>\n",
              "      <td>2.484120</td>\n",
              "      <td>-0.033529</td>\n",
              "      <td>0.510612</td>\n",
              "      <td>-0.409244</td>\n",
              "      <td>-0.115035</td>\n",
              "      <td>1.820327</td>\n",
              "      <td>0.042888</td>\n",
              "    </tr>\n",
              "    <tr>\n",
              "      <th>Sex</th>\n",
              "      <td>-0.033529</td>\n",
              "      <td>1.110504</td>\n",
              "      <td>-0.112778</td>\n",
              "      <td>0.066645</td>\n",
              "      <td>0.243752</td>\n",
              "      <td>0.066714</td>\n",
              "      <td>-0.085334</td>\n",
              "    </tr>\n",
              "    <tr>\n",
              "      <th>Age</th>\n",
              "      <td>0.510612</td>\n",
              "      <td>-0.112778</td>\n",
              "      <td>1.329474</td>\n",
              "      <td>0.100084</td>\n",
              "      <td>0.323291</td>\n",
              "      <td>-0.027172</td>\n",
              "      <td>-0.079692</td>\n",
              "    </tr>\n",
              "    <tr>\n",
              "      <th>SibSp</th>\n",
              "      <td>-0.409244</td>\n",
              "      <td>0.066645</td>\n",
              "      <td>0.100084</td>\n",
              "      <td>1.248410</td>\n",
              "      <td>-0.089805</td>\n",
              "      <td>-0.698475</td>\n",
              "      <td>-0.057667</td>\n",
              "    </tr>\n",
              "    <tr>\n",
              "      <th>Parch</th>\n",
              "      <td>-0.115035</td>\n",
              "      <td>0.243752</td>\n",
              "      <td>0.323291</td>\n",
              "      <td>-0.089805</td>\n",
              "      <td>1.231348</td>\n",
              "      <td>-0.312230</td>\n",
              "      <td>-0.041253</td>\n",
              "    </tr>\n",
              "    <tr>\n",
              "      <th>Fare</th>\n",
              "      <td>1.820327</td>\n",
              "      <td>0.066714</td>\n",
              "      <td>-0.027172</td>\n",
              "      <td>-0.698475</td>\n",
              "      <td>-0.312230</td>\n",
              "      <td>2.613208</td>\n",
              "      <td>0.168717</td>\n",
              "    </tr>\n",
              "    <tr>\n",
              "      <th>Embarked</th>\n",
              "      <td>0.042888</td>\n",
              "      <td>-0.085334</td>\n",
              "      <td>-0.079692</td>\n",
              "      <td>-0.057667</td>\n",
              "      <td>-0.041253</td>\n",
              "      <td>0.168717</td>\n",
              "      <td>1.026543</td>\n",
              "    </tr>\n",
              "  </tbody>\n",
              "</table>\n",
              "</div>"
            ],
            "text/plain": [
              "            Pclass       Sex       Age     SibSp     Parch      Fare  Embarked\n",
              "Pclass    2.484120 -0.033529  0.510612 -0.409244 -0.115035  1.820327  0.042888\n",
              "Sex      -0.033529  1.110504 -0.112778  0.066645  0.243752  0.066714 -0.085334\n",
              "Age       0.510612 -0.112778  1.329474  0.100084  0.323291 -0.027172 -0.079692\n",
              "SibSp    -0.409244  0.066645  0.100084  1.248410 -0.089805 -0.698475 -0.057667\n",
              "Parch    -0.115035  0.243752  0.323291 -0.089805  1.231348 -0.312230 -0.041253\n",
              "Fare      1.820327  0.066714 -0.027172 -0.698475 -0.312230  2.613208  0.168717\n",
              "Embarked  0.042888 -0.085334 -0.079692 -0.057667 -0.041253  0.168717  1.026543"
            ]
          },
          "metadata": {
            "tags": []
          },
          "execution_count": 39
        }
      ]
    },
    {
      "cell_type": "markdown",
      "metadata": {
        "id": "TalTgwqfXgqb",
        "colab_type": "text"
      },
      "source": [
        "There is no variable that has a VIF score above 4, thus there is no multicollinearity."
      ]
    },
    {
      "cell_type": "markdown",
      "metadata": {
        "id": "MMRpaqq7X2xd",
        "colab_type": "text"
      },
      "source": [
        "## Model 1: 80 - 20 set"
      ]
    },
    {
      "cell_type": "code",
      "metadata": {
        "id": "2fY3HWvbX5q8",
        "colab_type": "code",
        "colab": {}
      },
      "source": [
        "# Divide the data into features and labels\n",
        "\n",
        "X = ship_clean.iloc[:, 2:]\n",
        "y = ship_clean.iloc[:, 1]\n"
      ],
      "execution_count": null,
      "outputs": []
    },
    {
      "cell_type": "code",
      "metadata": {
        "id": "6DP958v1Zshv",
        "colab_type": "code",
        "colab": {}
      },
      "source": [
        "# Divide the data into training and test sets\n",
        "\n",
        "X_train, X_test, y_train, y_test = train_test_split(X, y, test_size = 0.2, random_state = 0)"
      ],
      "execution_count": null,
      "outputs": []
    },
    {
      "cell_type": "code",
      "metadata": {
        "id": "d9TFdSPEa9si",
        "colab_type": "code",
        "colab": {}
      },
      "source": [
        "# Scale the features so they are uniform\n",
        "\n",
        "scaler = StandardScaler()\n",
        "scaler.fit(X_train)\n",
        "\n",
        "X_train = scaler.transform(X_train)\n",
        "X_test = scaler.transform(X_test)"
      ],
      "execution_count": null,
      "outputs": []
    },
    {
      "cell_type": "code",
      "metadata": {
        "id": "ezeQRYyVafNg",
        "colab_type": "code",
        "colab": {
          "base_uri": "https://localhost:8080/",
          "height": 68
        },
        "outputId": "695cc36a-89d2-40c7-a1c8-31dd2b4b7281"
      },
      "source": [
        "# Initialize the KNeighborsClassifier\n",
        "\n",
        "classifier = KNeighborsClassifier()\n",
        "\n",
        "# Fit the classifier onto the training data set. This is the base model without any hyperparameter tuning.\n",
        "\n",
        "classifier.fit(X_train, y_train)"
      ],
      "execution_count": null,
      "outputs": [
        {
          "output_type": "execute_result",
          "data": {
            "text/plain": [
              "KNeighborsClassifier(algorithm='auto', leaf_size=30, metric='minkowski',\n",
              "                     metric_params=None, n_jobs=None, n_neighbors=5, p=2,\n",
              "                     weights='uniform')"
            ]
          },
          "metadata": {
            "tags": []
          },
          "execution_count": 43
        }
      ]
    },
    {
      "cell_type": "code",
      "metadata": {
        "id": "gunc3PFnburj",
        "colab_type": "code",
        "colab": {}
      },
      "source": [
        "# Make predictions on the test data\n",
        "\n",
        "y_pred = classifier.predict(X_test)"
      ],
      "execution_count": null,
      "outputs": []
    },
    {
      "cell_type": "code",
      "metadata": {
        "id": "Q1urp40rcDrq",
        "colab_type": "code",
        "colab": {
          "base_uri": "https://localhost:8080/",
          "height": 221
        },
        "outputId": "55458ae3-81a2-4b53-d7aa-32840a44a7e1"
      },
      "source": [
        "# Evaluate the performance of the model\n",
        "\n",
        "print(\"Accuracy:\",metrics.accuracy_score(y_test, y_pred))\n",
        "print(confusion_matrix(y_test, y_pred))\n",
        "print(classification_report(y_test, y_pred))"
      ],
      "execution_count": null,
      "outputs": [
        {
          "output_type": "stream",
          "text": [
            "Accuracy: 0.7217391304347827\n",
            "[[48 11]\n",
            " [21 35]]\n",
            "              precision    recall  f1-score   support\n",
            "\n",
            "           0       0.70      0.81      0.75        59\n",
            "           1       0.76      0.62      0.69        56\n",
            "\n",
            "    accuracy                           0.72       115\n",
            "   macro avg       0.73      0.72      0.72       115\n",
            "weighted avg       0.73      0.72      0.72       115\n",
            "\n"
          ],
          "name": "stdout"
        }
      ]
    },
    {
      "cell_type": "markdown",
      "metadata": {
        "id": "_UHZIdUBCd0F",
        "colab_type": "text"
      },
      "source": [
        "The proportion of correct classifications is at 72%. \n",
        "\n",
        "The results from the confusion matrix show that 48 and 35 are the number of correct predictions.\n",
        "11 and 21 are the number of incorrect predictions.\n",
        "\n",
        "The precision for class 0 is lower than that of class 1 while it is the opposite for the recall. This shows the model classifies more things under class 1 and there is thus need for optimizing.\n"
      ]
    },
    {
      "cell_type": "markdown",
      "metadata": {
        "id": "fCsN2eTTd5qF",
        "colab_type": "text"
      },
      "source": [
        "## Model 2: 70 - 30 set"
      ]
    },
    {
      "cell_type": "code",
      "metadata": {
        "id": "fkMmTrsNeEHd",
        "colab_type": "code",
        "colab": {}
      },
      "source": [
        "# Divide the data into features and labels\n",
        "\n",
        "X = ship_clean.iloc[:, 2:]\n",
        "y = ship_clean.iloc[:, 1]"
      ],
      "execution_count": null,
      "outputs": []
    },
    {
      "cell_type": "code",
      "metadata": {
        "id": "9K9UXm7L_KYG",
        "colab_type": "code",
        "colab": {}
      },
      "source": [
        "# Divide the data into training and test sets\n",
        "\n",
        "X_train, X_test, y_train, y_test = train_test_split(X, y, test_size = 0.3, random_state = 0)"
      ],
      "execution_count": null,
      "outputs": []
    },
    {
      "cell_type": "code",
      "metadata": {
        "id": "G8R0H0-K_NNc",
        "colab_type": "code",
        "colab": {}
      },
      "source": [
        "# Scale the features so they are uniform\n",
        "\n",
        "scaler = StandardScaler()\n",
        "scaler.fit(X_train)\n",
        "\n",
        "X_train = scaler.transform(X_train)\n",
        "X_test = scaler.transform(X_test)"
      ],
      "execution_count": null,
      "outputs": []
    },
    {
      "cell_type": "code",
      "metadata": {
        "id": "G3J5-Noa_R9X",
        "colab_type": "code",
        "colab": {
          "base_uri": "https://localhost:8080/",
          "height": 68
        },
        "outputId": "e5caeaa8-f1df-4444-8534-a5e556cd7e41"
      },
      "source": [
        "# Initialize the KNeighborsClassifier\n",
        "\n",
        "classifier = KNeighborsClassifier()\n",
        "\n",
        "# Fit the classifier onto the training data set. This is the base model without any hyperparameter tuning.\n",
        "\n",
        "classifier.fit(X_train, y_train)"
      ],
      "execution_count": null,
      "outputs": [
        {
          "output_type": "execute_result",
          "data": {
            "text/plain": [
              "KNeighborsClassifier(algorithm='auto', leaf_size=30, metric='minkowski',\n",
              "                     metric_params=None, n_jobs=None, n_neighbors=5, p=2,\n",
              "                     weights='uniform')"
            ]
          },
          "metadata": {
            "tags": []
          },
          "execution_count": 49
        }
      ]
    },
    {
      "cell_type": "code",
      "metadata": {
        "id": "4ZTxHdsU_Vdv",
        "colab_type": "code",
        "colab": {}
      },
      "source": [
        "# Make predictions on the test data\n",
        "\n",
        "y_pred = classifier.predict(X_test)"
      ],
      "execution_count": null,
      "outputs": []
    },
    {
      "cell_type": "code",
      "metadata": {
        "id": "t3yit3sV_ZpM",
        "colab_type": "code",
        "colab": {
          "base_uri": "https://localhost:8080/",
          "height": 221
        },
        "outputId": "9da63357-896d-4bba-f2ab-1f15253b5db8"
      },
      "source": [
        "# Evaluate the performance of the model\n",
        "print(\"Accuracy:\",metrics.accuracy_score(y_test, y_pred))\n",
        "print(confusion_matrix(y_test, y_pred))\n",
        "print(classification_report(y_test, y_pred))"
      ],
      "execution_count": null,
      "outputs": [
        {
          "output_type": "stream",
          "text": [
            "Accuracy: 0.7209302325581395\n",
            "[[74 17]\n",
            " [31 50]]\n",
            "              precision    recall  f1-score   support\n",
            "\n",
            "           0       0.70      0.81      0.76        91\n",
            "           1       0.75      0.62      0.68        81\n",
            "\n",
            "    accuracy                           0.72       172\n",
            "   macro avg       0.73      0.72      0.72       172\n",
            "weighted avg       0.72      0.72      0.72       172\n",
            "\n"
          ],
          "name": "stdout"
        }
      ]
    },
    {
      "cell_type": "markdown",
      "metadata": {
        "id": "7rXGG4k7IF3J",
        "colab_type": "text"
      },
      "source": [
        "The proportion of correct classifications is at 72%. \n",
        "\n",
        "The results from the confusion matrix show that 74 and 50 are the number of correct predictions.\n",
        "17 and 31 are the number of incorrect predictions.\n",
        "\n",
        "The precision for class 0 is lower than that of class 1 while it is the opposite for the recall. There is no much difference between this model and the first.\n",
        "\n",
        "The model classifies more things under class 1 and there is thus need for optimizing."
      ]
    },
    {
      "cell_type": "markdown",
      "metadata": {
        "id": "-HzpAoCfeGq5",
        "colab_type": "text"
      },
      "source": [
        "## Model 3: 60 - 40 set"
      ]
    },
    {
      "cell_type": "code",
      "metadata": {
        "id": "KMIRsbpXAaGD",
        "colab_type": "code",
        "colab": {}
      },
      "source": [
        "# Divide the data into features and labels\n",
        "\n",
        "X = ship_clean.iloc[:, 2:]\n",
        "y = ship_clean.iloc[:, 1]"
      ],
      "execution_count": null,
      "outputs": []
    },
    {
      "cell_type": "code",
      "metadata": {
        "id": "4swggD1JAc5c",
        "colab_type": "code",
        "colab": {}
      },
      "source": [
        "# Divide the data into training and test sets\n",
        "\n",
        "X_train, X_test, y_train, y_test = train_test_split(X, y, test_size = 0.4, random_state = 0)"
      ],
      "execution_count": null,
      "outputs": []
    },
    {
      "cell_type": "code",
      "metadata": {
        "id": "bajVhvhZAkJS",
        "colab_type": "code",
        "colab": {}
      },
      "source": [
        "# Scale the features so they are uniform\n",
        "\n",
        "scaler = StandardScaler()\n",
        "scaler.fit(X_train)\n",
        "\n",
        "X_train = scaler.transform(X_train)\n",
        "X_test = scaler.transform(X_test)"
      ],
      "execution_count": null,
      "outputs": []
    },
    {
      "cell_type": "code",
      "metadata": {
        "id": "uOTN4PJBAn0S",
        "colab_type": "code",
        "colab": {
          "base_uri": "https://localhost:8080/",
          "height": 68
        },
        "outputId": "840fabff-77f4-4597-c6a6-2c8f66523b0d"
      },
      "source": [
        "# Initialize the KNeighborsClassifier\n",
        "\n",
        "classifier = KNeighborsClassifier()\n",
        "\n",
        "# Fit the classifier onto the training data set. This is the base model without any hyperparameter tuning.\n",
        "\n",
        "classifier.fit(X_train, y_train)"
      ],
      "execution_count": null,
      "outputs": [
        {
          "output_type": "execute_result",
          "data": {
            "text/plain": [
              "KNeighborsClassifier(algorithm='auto', leaf_size=30, metric='minkowski',\n",
              "                     metric_params=None, n_jobs=None, n_neighbors=5, p=2,\n",
              "                     weights='uniform')"
            ]
          },
          "metadata": {
            "tags": []
          },
          "execution_count": 60
        }
      ]
    },
    {
      "cell_type": "code",
      "metadata": {
        "id": "YuZK4zgZAs2B",
        "colab_type": "code",
        "colab": {}
      },
      "source": [
        "# Make predictions on the test data\n",
        "\n",
        "y_pred = classifier.predict(X_test)"
      ],
      "execution_count": null,
      "outputs": []
    },
    {
      "cell_type": "code",
      "metadata": {
        "id": "74bq-VJAAvha",
        "colab_type": "code",
        "colab": {
          "base_uri": "https://localhost:8080/",
          "height": 221
        },
        "outputId": "25ad1aed-db77-4c0c-953b-a0e874402217"
      },
      "source": [
        "# Evaluate the performance of the model\n",
        "\n",
        "print(\"Accuracy:\",metrics.accuracy_score(y_test, y_pred))\n",
        "print(confusion_matrix(y_test, y_pred))\n",
        "print(classification_report(y_test, y_pred))"
      ],
      "execution_count": null,
      "outputs": [
        {
          "output_type": "stream",
          "text": [
            "Accuracy: 0.7292576419213974\n",
            "[[104  24]\n",
            " [ 38  63]]\n",
            "              precision    recall  f1-score   support\n",
            "\n",
            "           0       0.73      0.81      0.77       128\n",
            "           1       0.72      0.62      0.67       101\n",
            "\n",
            "    accuracy                           0.73       229\n",
            "   macro avg       0.73      0.72      0.72       229\n",
            "weighted avg       0.73      0.73      0.73       229\n",
            "\n"
          ],
          "name": "stdout"
        }
      ]
    },
    {
      "cell_type": "markdown",
      "metadata": {
        "id": "UXpTmFtqI6rL",
        "colab_type": "text"
      },
      "source": [
        "The proportion of correct classifications is slightly higher for this model at 73%.\n",
        "\n",
        "The results from the confusion matrix show that 104 and 63 are the number of correct predictions.\n",
        "24 and 38 are the number of incorrect predictions.\n",
        "\n",
        "Though the precision for class 0 is lower than that of class 1, it has significantly improved compared to the other models. This shows the model got considerably better at classifying though there is still need for optimization."
      ]
    },
    {
      "cell_type": "markdown",
      "metadata": {
        "id": "azJWgtRIeQSb",
        "colab_type": "text"
      },
      "source": [
        "## Optimized Model"
      ]
    },
    {
      "cell_type": "code",
      "metadata": {
        "id": "b1Wa1x6EQtL_",
        "colab_type": "code",
        "colab": {}
      },
      "source": [
        "# Divide the data into features and labels\n",
        "\n",
        "X = ship_clean.iloc[:, 2:]\n",
        "y = ship_clean.iloc[:, 1]"
      ],
      "execution_count": null,
      "outputs": []
    },
    {
      "cell_type": "code",
      "metadata": {
        "id": "UqHN_7EdQw_Q",
        "colab_type": "code",
        "colab": {}
      },
      "source": [
        "# Divide the data into training and test sets\n",
        "# I'll use the test size at 0.3 as I want a good enough size for the test set. \n",
        "\n",
        "X_train, X_test, y_train, y_test = train_test_split(X, y, test_size = 0.3, random_state = 0)"
      ],
      "execution_count": null,
      "outputs": []
    },
    {
      "cell_type": "code",
      "metadata": {
        "id": "_OD9vAyhQ0im",
        "colab_type": "code",
        "colab": {}
      },
      "source": [
        "# Scale the features so they are uniform\n",
        "\n",
        "scaler = StandardScaler()\n",
        "scaler.fit(X_train)\n",
        "\n",
        "X_train = scaler.transform(X_train)\n",
        "X_test = scaler.transform(X_test)"
      ],
      "execution_count": null,
      "outputs": []
    },
    {
      "cell_type": "code",
      "metadata": {
        "id": "481KhscwKgKZ",
        "colab_type": "code",
        "colab": {}
      },
      "source": [
        "# I'll do hyperparameter tuning using GridSearchCV\n",
        "\n",
        "# List Hyperparameters that we want to tune\n",
        "\n",
        "leaf_size = list(range(1,20))\n",
        "n_neighbors = list(range(1,20))\n",
        "p=[1,2]\n",
        "\n",
        "# Convert them to a dictionary\n",
        "\n",
        "hyperparameters = dict(leaf_size=leaf_size, n_neighbors=n_neighbors, p=p)\n",
        "\n",
        "# Instantiate the KNeighborsClassifier\n",
        "\n",
        "clf = KNeighborsClassifier()\n",
        "\n",
        "# Use GridSearch\n",
        "\n",
        "grid = GridSearchCV(clf, hyperparameters, cv=10)"
      ],
      "execution_count": null,
      "outputs": []
    },
    {
      "cell_type": "code",
      "metadata": {
        "id": "NISKm_AKMnVz",
        "colab_type": "code",
        "colab": {}
      },
      "source": [
        "# Fit the model\n",
        "\n",
        "best_model = grid.fit(X_train,y_train)"
      ],
      "execution_count": null,
      "outputs": []
    },
    {
      "cell_type": "code",
      "metadata": {
        "id": "B7UWpa6jMb-j",
        "colab_type": "code",
        "colab": {
          "base_uri": "https://localhost:8080/",
          "height": 68
        },
        "outputId": "3e1d224d-a769-47ad-8388-bc199b2f7a25"
      },
      "source": [
        "# Print The value of best Hyperparameters\n",
        "\n",
        "print('Best leaf_size:', best_model.best_estimator_.get_params()['leaf_size'])\n",
        "print('Best p:', best_model.best_estimator_.get_params()['p'])\n",
        "print('Best n_neighbors:', best_model.best_estimator_.get_params()['n_neighbors'])"
      ],
      "execution_count": null,
      "outputs": [
        {
          "output_type": "stream",
          "text": [
            "Best leaf_size: 2\n",
            "Best p: 2\n",
            "Best n_neighbors: 17\n"
          ],
          "name": "stdout"
        }
      ]
    },
    {
      "cell_type": "code",
      "metadata": {
        "id": "SSWrLYO_NELV",
        "colab_type": "code",
        "colab": {}
      },
      "source": [
        "# Make predictions on the test data\n",
        "\n",
        "grid_pred = grid.predict(X_test)"
      ],
      "execution_count": null,
      "outputs": []
    },
    {
      "cell_type": "code",
      "metadata": {
        "id": "wb70AZfnNHxV",
        "colab_type": "code",
        "colab": {
          "base_uri": "https://localhost:8080/",
          "height": 221
        },
        "outputId": "da11b143-efe5-4a51-f538-6587a823f449"
      },
      "source": [
        "# Evaluate the performance of the model\n",
        "\n",
        "print(\"Accuracy:\",metrics.accuracy_score(y_test, grid_pred))\n",
        "print(confusion_matrix(y_test, grid_pred))\n",
        "print(classification_report(y_test, grid_pred))"
      ],
      "execution_count": null,
      "outputs": [
        {
          "output_type": "stream",
          "text": [
            "Accuracy: 0.7383720930232558\n",
            "[[80 11]\n",
            " [34 47]]\n",
            "              precision    recall  f1-score   support\n",
            "\n",
            "           0       0.70      0.88      0.78        91\n",
            "           1       0.81      0.58      0.68        81\n",
            "\n",
            "    accuracy                           0.74       172\n",
            "   macro avg       0.76      0.73      0.73       172\n",
            "weighted avg       0.75      0.74      0.73       172\n",
            "\n"
          ],
          "name": "stdout"
        }
      ]
    },
    {
      "cell_type": "markdown",
      "metadata": {
        "id": "9Ul3dMi6N3Tc",
        "colab_type": "text"
      },
      "source": [
        "The accuracy of the optimized model has improved. It's at 74%.\n",
        "\n",
        "The results from the confusion matrix show that 80 and 47 are the number of correct predictions.\n",
        "11 and 34 are the number of incorrect predictions.\n",
        "\n",
        "The precision for class 0 is the same as that of the first 2 base models that had not been optimized. The 3rd model out-performs this one in precision.\n",
        "\n",
        "The f1-score (showing percentage of positive predictions that were correct) for this model however is better than that of the first 3 base models."
      ]
    },
    {
      "cell_type": "markdown",
      "metadata": {
        "id": "Q3NtZrO6tAJu",
        "colab_type": "text"
      },
      "source": [
        "# 8. Implementing the Solution"
      ]
    },
    {
      "cell_type": "markdown",
      "metadata": {
        "id": "kBM7deYNQSw9",
        "colab_type": "text"
      },
      "source": [
        "The model that works best for this question is the optimized KNeighboursClassifier though it still does not give the desired accuracy of over 90%."
      ]
    },
    {
      "cell_type": "markdown",
      "metadata": {
        "id": "n_fZfSSktFuE",
        "colab_type": "text"
      },
      "source": [
        "# 9. Challenging the Solution"
      ]
    },
    {
      "cell_type": "markdown",
      "metadata": {
        "id": "5AgHkoD_LNAD",
        "colab_type": "text"
      },
      "source": [
        "1. The accuracy of the kNN model depends on the quality of the data. I noticed upon removing outliers, some columns lost info that I perceived as important. This could have contributed to the accuracy of the model being quite low. \n",
        "\n",
        "*  In future, I will find a way to retain the info I think is important so it won't be removed as part of the outliers.\n",
        "\n",
        "\n",
        "\n",
        "2. The range used for the hyperparameters dictionary when tuning could be widened to see if the accuracy will increase.\n"
      ]
    },
    {
      "cell_type": "code",
      "metadata": {
        "id": "ahAq_FS2j3_Q",
        "colab_type": "code",
        "colab": {}
      },
      "source": [
        ""
      ],
      "execution_count": null,
      "outputs": []
    },
    {
      "cell_type": "markdown",
      "metadata": {
        "id": "0FDGiz8YtOtZ",
        "colab_type": "text"
      },
      "source": [
        "# 10. Follow up Questions"
      ]
    },
    {
      "cell_type": "markdown",
      "metadata": {
        "id": "RsjcMv6OYSxP",
        "colab_type": "text"
      },
      "source": [
        "**1. Did we have the right data**\n",
        "\n",
        "The data provided for this question was relevant and yielded good results\n",
        "\n",
        "**2. Do we need other data to answer our questions**\n",
        "\n",
        "No. The data provided was sufficient\n",
        "\n",
        "**3. Do we have the right question**\n",
        "\n",
        "The question was right for the data given"
      ]
    }
  ]
}